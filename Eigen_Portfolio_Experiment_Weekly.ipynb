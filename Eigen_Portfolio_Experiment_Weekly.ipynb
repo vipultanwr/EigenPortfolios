{
 "cells": [
  {
   "cell_type": "code",
   "execution_count": 64,
   "metadata": {
    "scrolled": false
   },
   "outputs": [
    {
     "ename": "KeyboardInterrupt",
     "evalue": "",
     "output_type": "error",
     "traceback": [
      "\u001b[0;31m---------------------------------------------------------------------------\u001b[0m",
      "\u001b[0;31mKeyboardInterrupt\u001b[0m                         Traceback (most recent call last)",
      "\u001b[0;32m<ipython-input-64-9bf658a97e22>\u001b[0m in \u001b[0;36m<module>\u001b[0;34m\u001b[0m\n\u001b[1;32m     22\u001b[0m \u001b[0mUniverse\u001b[0m \u001b[0;34m=\u001b[0m \u001b[0mget_top_rics_by_mktcap\u001b[0m\u001b[0;34m(\u001b[0m\u001b[0;36m40\u001b[0m\u001b[0;34m,\u001b[0m\u001b[0mstart_date\u001b[0m\u001b[0;34m)\u001b[0m\u001b[0;34m\u001b[0m\u001b[0;34m\u001b[0m\u001b[0m\n\u001b[1;32m     23\u001b[0m \u001b[0;34m\u001b[0m\u001b[0m\n\u001b[0;32m---> 24\u001b[0;31m prices = ek.get_timeseries(rics=Universe,fields=['CLOSE'],\n\u001b[0m\u001b[1;32m     25\u001b[0m                             \u001b[0mstart_date\u001b[0m\u001b[0;34m=\u001b[0m\u001b[0mstart_date\u001b[0m\u001b[0;34m,\u001b[0m\u001b[0;34m\u001b[0m\u001b[0;34m\u001b[0m\u001b[0m\n\u001b[1;32m     26\u001b[0m                             \u001b[0mend_date\u001b[0m\u001b[0;34m=\u001b[0m\u001b[0mend_date\u001b[0m\u001b[0;34m,\u001b[0m\u001b[0;34m\u001b[0m\u001b[0;34m\u001b[0m\u001b[0m\n",
      "\u001b[0;32m~/Documents/kite/kite/lib/python3.8/site-packages/eikon/time_series.py\u001b[0m in \u001b[0;36mget_timeseries\u001b[0;34m(rics, fields, start_date, end_date, interval, count, calendar, corax, normalize, raw_output, debug)\u001b[0m\n\u001b[1;32m    176\u001b[0m                 \u001b[0;32mraise\u001b[0m \u001b[0mValueError\u001b[0m\u001b[0;34m(\u001b[0m\u001b[0merror_msg\u001b[0m\u001b[0;34m)\u001b[0m\u001b[0;34m\u001b[0m\u001b[0;34m\u001b[0m\u001b[0m\n\u001b[1;32m    177\u001b[0m \u001b[0;34m\u001b[0m\u001b[0m\n\u001b[0;32m--> 178\u001b[0;31m     \u001b[0mts_result\u001b[0m \u001b[0;34m=\u001b[0m \u001b[0meikon\u001b[0m\u001b[0;34m.\u001b[0m\u001b[0mjson_requests\u001b[0m\u001b[0;34m.\u001b[0m\u001b[0msend_json_request\u001b[0m\u001b[0;34m(\u001b[0m\u001b[0mTimeSeries_UDF_endpoint\u001b[0m\u001b[0;34m,\u001b[0m \u001b[0mpayload\u001b[0m\u001b[0;34m,\u001b[0m \u001b[0mdebug\u001b[0m\u001b[0;34m=\u001b[0m\u001b[0mdebug\u001b[0m\u001b[0;34m)\u001b[0m\u001b[0;34m\u001b[0m\u001b[0;34m\u001b[0m\u001b[0m\n\u001b[0m\u001b[1;32m    179\u001b[0m \u001b[0;34m\u001b[0m\u001b[0m\n\u001b[1;32m    180\u001b[0m     \u001b[0;31m# Catch all errors to raise a warning\u001b[0m\u001b[0;34m\u001b[0m\u001b[0;34m\u001b[0m\u001b[0;34m\u001b[0m\u001b[0m\n",
      "\u001b[0;32m~/Documents/kite/kite/lib/python3.8/site-packages/eikon/json_requests.py\u001b[0m in \u001b[0;36msend_json_request\u001b[0;34m(entity, payload, debug)\u001b[0m\n\u001b[1;32m     86\u001b[0m             \u001b[0mudf_request\u001b[0m \u001b[0;34m=\u001b[0m \u001b[0;34m{\u001b[0m\u001b[0;34m'Entity'\u001b[0m\u001b[0;34m:\u001b[0m \u001b[0;34m{\u001b[0m\u001b[0;34m'E'\u001b[0m\u001b[0;34m:\u001b[0m \u001b[0mentity\u001b[0m\u001b[0;34m,\u001b[0m \u001b[0;34m'W'\u001b[0m\u001b[0;34m:\u001b[0m \u001b[0mdata\u001b[0m\u001b[0;34m}\u001b[0m \u001b[0;34m}\u001b[0m\u001b[0;34m\u001b[0m\u001b[0;34m\u001b[0m\u001b[0m\n\u001b[1;32m     87\u001b[0m             \u001b[0mlogger\u001b[0m\u001b[0;34m.\u001b[0m\u001b[0mdebug\u001b[0m\u001b[0;34m(\u001b[0m\u001b[0;34m'Request:{}'\u001b[0m\u001b[0;34m.\u001b[0m\u001b[0mformat\u001b[0m\u001b[0;34m(\u001b[0m\u001b[0mudf_request\u001b[0m\u001b[0;34m)\u001b[0m\u001b[0;34m)\u001b[0m\u001b[0;34m\u001b[0m\u001b[0;34m\u001b[0m\u001b[0m\n\u001b[0;32m---> 88\u001b[0;31m             response = profile._get_http_session().post(profile.get_url(),\n\u001b[0m\u001b[1;32m     89\u001b[0m                                                         \u001b[0mjson\u001b[0m\u001b[0;34m=\u001b[0m\u001b[0mudf_request\u001b[0m\u001b[0;34m,\u001b[0m\u001b[0;34m\u001b[0m\u001b[0;34m\u001b[0m\u001b[0m\n\u001b[1;32m     90\u001b[0m                                                         headers={'Content-Type': 'application/json',\n",
      "\u001b[0;32m~/Documents/kite/kite/lib/python3.8/site-packages/requests/sessions.py\u001b[0m in \u001b[0;36mpost\u001b[0;34m(self, url, data, json, **kwargs)\u001b[0m\n\u001b[1;32m    579\u001b[0m         \"\"\"\n\u001b[1;32m    580\u001b[0m \u001b[0;34m\u001b[0m\u001b[0m\n\u001b[0;32m--> 581\u001b[0;31m         \u001b[0;32mreturn\u001b[0m \u001b[0mself\u001b[0m\u001b[0;34m.\u001b[0m\u001b[0mrequest\u001b[0m\u001b[0;34m(\u001b[0m\u001b[0;34m'POST'\u001b[0m\u001b[0;34m,\u001b[0m \u001b[0murl\u001b[0m\u001b[0;34m,\u001b[0m \u001b[0mdata\u001b[0m\u001b[0;34m=\u001b[0m\u001b[0mdata\u001b[0m\u001b[0;34m,\u001b[0m \u001b[0mjson\u001b[0m\u001b[0;34m=\u001b[0m\u001b[0mjson\u001b[0m\u001b[0;34m,\u001b[0m \u001b[0;34m**\u001b[0m\u001b[0mkwargs\u001b[0m\u001b[0;34m)\u001b[0m\u001b[0;34m\u001b[0m\u001b[0;34m\u001b[0m\u001b[0m\n\u001b[0m\u001b[1;32m    582\u001b[0m \u001b[0;34m\u001b[0m\u001b[0m\n\u001b[1;32m    583\u001b[0m     \u001b[0;32mdef\u001b[0m \u001b[0mput\u001b[0m\u001b[0;34m(\u001b[0m\u001b[0mself\u001b[0m\u001b[0;34m,\u001b[0m \u001b[0murl\u001b[0m\u001b[0;34m,\u001b[0m \u001b[0mdata\u001b[0m\u001b[0;34m=\u001b[0m\u001b[0;32mNone\u001b[0m\u001b[0;34m,\u001b[0m \u001b[0;34m**\u001b[0m\u001b[0mkwargs\u001b[0m\u001b[0;34m)\u001b[0m\u001b[0;34m:\u001b[0m\u001b[0;34m\u001b[0m\u001b[0;34m\u001b[0m\u001b[0m\n",
      "\u001b[0;32m~/Documents/kite/kite/lib/python3.8/site-packages/requests/sessions.py\u001b[0m in \u001b[0;36mrequest\u001b[0;34m(self, method, url, params, data, headers, cookies, files, auth, timeout, allow_redirects, proxies, hooks, stream, verify, cert, json)\u001b[0m\n\u001b[1;32m    531\u001b[0m         }\n\u001b[1;32m    532\u001b[0m         \u001b[0msend_kwargs\u001b[0m\u001b[0;34m.\u001b[0m\u001b[0mupdate\u001b[0m\u001b[0;34m(\u001b[0m\u001b[0msettings\u001b[0m\u001b[0;34m)\u001b[0m\u001b[0;34m\u001b[0m\u001b[0;34m\u001b[0m\u001b[0m\n\u001b[0;32m--> 533\u001b[0;31m         \u001b[0mresp\u001b[0m \u001b[0;34m=\u001b[0m \u001b[0mself\u001b[0m\u001b[0;34m.\u001b[0m\u001b[0msend\u001b[0m\u001b[0;34m(\u001b[0m\u001b[0mprep\u001b[0m\u001b[0;34m,\u001b[0m \u001b[0;34m**\u001b[0m\u001b[0msend_kwargs\u001b[0m\u001b[0;34m)\u001b[0m\u001b[0;34m\u001b[0m\u001b[0;34m\u001b[0m\u001b[0m\n\u001b[0m\u001b[1;32m    534\u001b[0m \u001b[0;34m\u001b[0m\u001b[0m\n\u001b[1;32m    535\u001b[0m         \u001b[0;32mreturn\u001b[0m \u001b[0mresp\u001b[0m\u001b[0;34m\u001b[0m\u001b[0;34m\u001b[0m\u001b[0m\n",
      "\u001b[0;32m~/Documents/kite/kite/lib/python3.8/site-packages/requests/sessions.py\u001b[0m in \u001b[0;36msend\u001b[0;34m(self, request, **kwargs)\u001b[0m\n\u001b[1;32m    644\u001b[0m \u001b[0;34m\u001b[0m\u001b[0m\n\u001b[1;32m    645\u001b[0m         \u001b[0;31m# Send the request\u001b[0m\u001b[0;34m\u001b[0m\u001b[0;34m\u001b[0m\u001b[0;34m\u001b[0m\u001b[0m\n\u001b[0;32m--> 646\u001b[0;31m         \u001b[0mr\u001b[0m \u001b[0;34m=\u001b[0m \u001b[0madapter\u001b[0m\u001b[0;34m.\u001b[0m\u001b[0msend\u001b[0m\u001b[0;34m(\u001b[0m\u001b[0mrequest\u001b[0m\u001b[0;34m,\u001b[0m \u001b[0;34m**\u001b[0m\u001b[0mkwargs\u001b[0m\u001b[0;34m)\u001b[0m\u001b[0;34m\u001b[0m\u001b[0;34m\u001b[0m\u001b[0m\n\u001b[0m\u001b[1;32m    647\u001b[0m \u001b[0;34m\u001b[0m\u001b[0m\n\u001b[1;32m    648\u001b[0m         \u001b[0;31m# Total elapsed time of the request (approximately)\u001b[0m\u001b[0;34m\u001b[0m\u001b[0;34m\u001b[0m\u001b[0;34m\u001b[0m\u001b[0m\n",
      "\u001b[0;32m~/Documents/kite/kite/lib/python3.8/site-packages/requests/adapters.py\u001b[0m in \u001b[0;36msend\u001b[0;34m(self, request, stream, timeout, verify, cert, proxies)\u001b[0m\n\u001b[1;32m    437\u001b[0m         \u001b[0;32mtry\u001b[0m\u001b[0;34m:\u001b[0m\u001b[0;34m\u001b[0m\u001b[0;34m\u001b[0m\u001b[0m\n\u001b[1;32m    438\u001b[0m             \u001b[0;32mif\u001b[0m \u001b[0;32mnot\u001b[0m \u001b[0mchunked\u001b[0m\u001b[0;34m:\u001b[0m\u001b[0;34m\u001b[0m\u001b[0;34m\u001b[0m\u001b[0m\n\u001b[0;32m--> 439\u001b[0;31m                 resp = conn.urlopen(\n\u001b[0m\u001b[1;32m    440\u001b[0m                     \u001b[0mmethod\u001b[0m\u001b[0;34m=\u001b[0m\u001b[0mrequest\u001b[0m\u001b[0;34m.\u001b[0m\u001b[0mmethod\u001b[0m\u001b[0;34m,\u001b[0m\u001b[0;34m\u001b[0m\u001b[0;34m\u001b[0m\u001b[0m\n\u001b[1;32m    441\u001b[0m                     \u001b[0murl\u001b[0m\u001b[0;34m=\u001b[0m\u001b[0murl\u001b[0m\u001b[0;34m,\u001b[0m\u001b[0;34m\u001b[0m\u001b[0;34m\u001b[0m\u001b[0m\n",
      "\u001b[0;32m~/Documents/kite/kite/lib/python3.8/site-packages/urllib3/connectionpool.py\u001b[0m in \u001b[0;36murlopen\u001b[0;34m(self, method, url, body, headers, retries, redirect, assert_same_host, timeout, pool_timeout, release_conn, chunked, body_pos, **response_kw)\u001b[0m\n\u001b[1;32m    663\u001b[0m \u001b[0;34m\u001b[0m\u001b[0m\n\u001b[1;32m    664\u001b[0m             \u001b[0;31m# Make the request on the httplib connection object.\u001b[0m\u001b[0;34m\u001b[0m\u001b[0;34m\u001b[0m\u001b[0;34m\u001b[0m\u001b[0m\n\u001b[0;32m--> 665\u001b[0;31m             httplib_response = self._make_request(\n\u001b[0m\u001b[1;32m    666\u001b[0m                 \u001b[0mconn\u001b[0m\u001b[0;34m,\u001b[0m\u001b[0;34m\u001b[0m\u001b[0;34m\u001b[0m\u001b[0m\n\u001b[1;32m    667\u001b[0m                 \u001b[0mmethod\u001b[0m\u001b[0;34m,\u001b[0m\u001b[0;34m\u001b[0m\u001b[0;34m\u001b[0m\u001b[0m\n",
      "\u001b[0;32m~/Documents/kite/kite/lib/python3.8/site-packages/urllib3/connectionpool.py\u001b[0m in \u001b[0;36m_make_request\u001b[0;34m(self, conn, method, url, timeout, chunked, **httplib_request_kw)\u001b[0m\n\u001b[1;32m    419\u001b[0m                     \u001b[0;31m# Python 3 (including for exceptions like SystemExit).\u001b[0m\u001b[0;34m\u001b[0m\u001b[0;34m\u001b[0m\u001b[0;34m\u001b[0m\u001b[0m\n\u001b[1;32m    420\u001b[0m                     \u001b[0;31m# Otherwise it looks like a bug in the code.\u001b[0m\u001b[0;34m\u001b[0m\u001b[0;34m\u001b[0m\u001b[0;34m\u001b[0m\u001b[0m\n\u001b[0;32m--> 421\u001b[0;31m                     \u001b[0msix\u001b[0m\u001b[0;34m.\u001b[0m\u001b[0mraise_from\u001b[0m\u001b[0;34m(\u001b[0m\u001b[0me\u001b[0m\u001b[0;34m,\u001b[0m \u001b[0;32mNone\u001b[0m\u001b[0;34m)\u001b[0m\u001b[0;34m\u001b[0m\u001b[0;34m\u001b[0m\u001b[0m\n\u001b[0m\u001b[1;32m    422\u001b[0m         \u001b[0;32mexcept\u001b[0m \u001b[0;34m(\u001b[0m\u001b[0mSocketTimeout\u001b[0m\u001b[0;34m,\u001b[0m \u001b[0mBaseSSLError\u001b[0m\u001b[0;34m,\u001b[0m \u001b[0mSocketError\u001b[0m\u001b[0;34m)\u001b[0m \u001b[0;32mas\u001b[0m \u001b[0me\u001b[0m\u001b[0;34m:\u001b[0m\u001b[0;34m\u001b[0m\u001b[0;34m\u001b[0m\u001b[0m\n\u001b[1;32m    423\u001b[0m             \u001b[0mself\u001b[0m\u001b[0;34m.\u001b[0m\u001b[0m_raise_timeout\u001b[0m\u001b[0;34m(\u001b[0m\u001b[0merr\u001b[0m\u001b[0;34m=\u001b[0m\u001b[0me\u001b[0m\u001b[0;34m,\u001b[0m \u001b[0murl\u001b[0m\u001b[0;34m=\u001b[0m\u001b[0murl\u001b[0m\u001b[0;34m,\u001b[0m \u001b[0mtimeout_value\u001b[0m\u001b[0;34m=\u001b[0m\u001b[0mread_timeout\u001b[0m\u001b[0;34m)\u001b[0m\u001b[0;34m\u001b[0m\u001b[0;34m\u001b[0m\u001b[0m\n",
      "\u001b[0;32m~/Documents/kite/kite/lib/python3.8/site-packages/urllib3/packages/six.py\u001b[0m in \u001b[0;36mraise_from\u001b[0;34m(value, from_value)\u001b[0m\n",
      "\u001b[0;32m~/Documents/kite/kite/lib/python3.8/site-packages/urllib3/connectionpool.py\u001b[0m in \u001b[0;36m_make_request\u001b[0;34m(self, conn, method, url, timeout, chunked, **httplib_request_kw)\u001b[0m\n\u001b[1;32m    414\u001b[0m                 \u001b[0;31m# Python 3\u001b[0m\u001b[0;34m\u001b[0m\u001b[0;34m\u001b[0m\u001b[0;34m\u001b[0m\u001b[0m\n\u001b[1;32m    415\u001b[0m                 \u001b[0;32mtry\u001b[0m\u001b[0;34m:\u001b[0m\u001b[0;34m\u001b[0m\u001b[0;34m\u001b[0m\u001b[0m\n\u001b[0;32m--> 416\u001b[0;31m                     \u001b[0mhttplib_response\u001b[0m \u001b[0;34m=\u001b[0m \u001b[0mconn\u001b[0m\u001b[0;34m.\u001b[0m\u001b[0mgetresponse\u001b[0m\u001b[0;34m(\u001b[0m\u001b[0;34m)\u001b[0m\u001b[0;34m\u001b[0m\u001b[0;34m\u001b[0m\u001b[0m\n\u001b[0m\u001b[1;32m    417\u001b[0m                 \u001b[0;32mexcept\u001b[0m \u001b[0mBaseException\u001b[0m \u001b[0;32mas\u001b[0m \u001b[0me\u001b[0m\u001b[0;34m:\u001b[0m\u001b[0;34m\u001b[0m\u001b[0;34m\u001b[0m\u001b[0m\n\u001b[1;32m    418\u001b[0m                     \u001b[0;31m# Remove the TypeError from the exception chain in\u001b[0m\u001b[0;34m\u001b[0m\u001b[0;34m\u001b[0m\u001b[0;34m\u001b[0m\u001b[0m\n",
      "\u001b[0;32m~/.pyenv/versions/3.8.0/lib/python3.8/http/client.py\u001b[0m in \u001b[0;36mgetresponse\u001b[0;34m(self)\u001b[0m\n\u001b[1;32m   1320\u001b[0m         \u001b[0;32mtry\u001b[0m\u001b[0;34m:\u001b[0m\u001b[0;34m\u001b[0m\u001b[0;34m\u001b[0m\u001b[0m\n\u001b[1;32m   1321\u001b[0m             \u001b[0;32mtry\u001b[0m\u001b[0;34m:\u001b[0m\u001b[0;34m\u001b[0m\u001b[0;34m\u001b[0m\u001b[0m\n\u001b[0;32m-> 1322\u001b[0;31m                 \u001b[0mresponse\u001b[0m\u001b[0;34m.\u001b[0m\u001b[0mbegin\u001b[0m\u001b[0;34m(\u001b[0m\u001b[0;34m)\u001b[0m\u001b[0;34m\u001b[0m\u001b[0;34m\u001b[0m\u001b[0m\n\u001b[0m\u001b[1;32m   1323\u001b[0m             \u001b[0;32mexcept\u001b[0m \u001b[0mConnectionError\u001b[0m\u001b[0;34m:\u001b[0m\u001b[0;34m\u001b[0m\u001b[0;34m\u001b[0m\u001b[0m\n\u001b[1;32m   1324\u001b[0m                 \u001b[0mself\u001b[0m\u001b[0;34m.\u001b[0m\u001b[0mclose\u001b[0m\u001b[0;34m(\u001b[0m\u001b[0;34m)\u001b[0m\u001b[0;34m\u001b[0m\u001b[0;34m\u001b[0m\u001b[0m\n",
      "\u001b[0;32m~/.pyenv/versions/3.8.0/lib/python3.8/http/client.py\u001b[0m in \u001b[0;36mbegin\u001b[0;34m(self)\u001b[0m\n\u001b[1;32m    301\u001b[0m         \u001b[0;31m# read until we get a non-100 response\u001b[0m\u001b[0;34m\u001b[0m\u001b[0;34m\u001b[0m\u001b[0;34m\u001b[0m\u001b[0m\n\u001b[1;32m    302\u001b[0m         \u001b[0;32mwhile\u001b[0m \u001b[0;32mTrue\u001b[0m\u001b[0;34m:\u001b[0m\u001b[0;34m\u001b[0m\u001b[0;34m\u001b[0m\u001b[0m\n\u001b[0;32m--> 303\u001b[0;31m             \u001b[0mversion\u001b[0m\u001b[0;34m,\u001b[0m \u001b[0mstatus\u001b[0m\u001b[0;34m,\u001b[0m \u001b[0mreason\u001b[0m \u001b[0;34m=\u001b[0m \u001b[0mself\u001b[0m\u001b[0;34m.\u001b[0m\u001b[0m_read_status\u001b[0m\u001b[0;34m(\u001b[0m\u001b[0;34m)\u001b[0m\u001b[0;34m\u001b[0m\u001b[0;34m\u001b[0m\u001b[0m\n\u001b[0m\u001b[1;32m    304\u001b[0m             \u001b[0;32mif\u001b[0m \u001b[0mstatus\u001b[0m \u001b[0;34m!=\u001b[0m \u001b[0mCONTINUE\u001b[0m\u001b[0;34m:\u001b[0m\u001b[0;34m\u001b[0m\u001b[0;34m\u001b[0m\u001b[0m\n\u001b[1;32m    305\u001b[0m                 \u001b[0;32mbreak\u001b[0m\u001b[0;34m\u001b[0m\u001b[0;34m\u001b[0m\u001b[0m\n",
      "\u001b[0;32m~/.pyenv/versions/3.8.0/lib/python3.8/http/client.py\u001b[0m in \u001b[0;36m_read_status\u001b[0;34m(self)\u001b[0m\n\u001b[1;32m    262\u001b[0m \u001b[0;34m\u001b[0m\u001b[0m\n\u001b[1;32m    263\u001b[0m     \u001b[0;32mdef\u001b[0m \u001b[0m_read_status\u001b[0m\u001b[0;34m(\u001b[0m\u001b[0mself\u001b[0m\u001b[0;34m)\u001b[0m\u001b[0;34m:\u001b[0m\u001b[0;34m\u001b[0m\u001b[0;34m\u001b[0m\u001b[0m\n\u001b[0;32m--> 264\u001b[0;31m         \u001b[0mline\u001b[0m \u001b[0;34m=\u001b[0m \u001b[0mstr\u001b[0m\u001b[0;34m(\u001b[0m\u001b[0mself\u001b[0m\u001b[0;34m.\u001b[0m\u001b[0mfp\u001b[0m\u001b[0;34m.\u001b[0m\u001b[0mreadline\u001b[0m\u001b[0;34m(\u001b[0m\u001b[0m_MAXLINE\u001b[0m \u001b[0;34m+\u001b[0m \u001b[0;36m1\u001b[0m\u001b[0;34m)\u001b[0m\u001b[0;34m,\u001b[0m \u001b[0;34m\"iso-8859-1\"\u001b[0m\u001b[0;34m)\u001b[0m\u001b[0;34m\u001b[0m\u001b[0;34m\u001b[0m\u001b[0m\n\u001b[0m\u001b[1;32m    265\u001b[0m         \u001b[0;32mif\u001b[0m \u001b[0mlen\u001b[0m\u001b[0;34m(\u001b[0m\u001b[0mline\u001b[0m\u001b[0;34m)\u001b[0m \u001b[0;34m>\u001b[0m \u001b[0m_MAXLINE\u001b[0m\u001b[0;34m:\u001b[0m\u001b[0;34m\u001b[0m\u001b[0;34m\u001b[0m\u001b[0m\n\u001b[1;32m    266\u001b[0m             \u001b[0;32mraise\u001b[0m \u001b[0mLineTooLong\u001b[0m\u001b[0;34m(\u001b[0m\u001b[0;34m\"status line\"\u001b[0m\u001b[0;34m)\u001b[0m\u001b[0;34m\u001b[0m\u001b[0;34m\u001b[0m\u001b[0m\n",
      "\u001b[0;32m~/.pyenv/versions/3.8.0/lib/python3.8/socket.py\u001b[0m in \u001b[0;36mreadinto\u001b[0;34m(self, b)\u001b[0m\n\u001b[1;32m    667\u001b[0m         \u001b[0;32mwhile\u001b[0m \u001b[0;32mTrue\u001b[0m\u001b[0;34m:\u001b[0m\u001b[0;34m\u001b[0m\u001b[0;34m\u001b[0m\u001b[0m\n\u001b[1;32m    668\u001b[0m             \u001b[0;32mtry\u001b[0m\u001b[0;34m:\u001b[0m\u001b[0;34m\u001b[0m\u001b[0;34m\u001b[0m\u001b[0m\n\u001b[0;32m--> 669\u001b[0;31m                 \u001b[0;32mreturn\u001b[0m \u001b[0mself\u001b[0m\u001b[0;34m.\u001b[0m\u001b[0m_sock\u001b[0m\u001b[0;34m.\u001b[0m\u001b[0mrecv_into\u001b[0m\u001b[0;34m(\u001b[0m\u001b[0mb\u001b[0m\u001b[0;34m)\u001b[0m\u001b[0;34m\u001b[0m\u001b[0;34m\u001b[0m\u001b[0m\n\u001b[0m\u001b[1;32m    670\u001b[0m             \u001b[0;32mexcept\u001b[0m \u001b[0mtimeout\u001b[0m\u001b[0;34m:\u001b[0m\u001b[0;34m\u001b[0m\u001b[0;34m\u001b[0m\u001b[0m\n\u001b[1;32m    671\u001b[0m                 \u001b[0mself\u001b[0m\u001b[0;34m.\u001b[0m\u001b[0m_timeout_occurred\u001b[0m \u001b[0;34m=\u001b[0m \u001b[0;32mTrue\u001b[0m\u001b[0;34m\u001b[0m\u001b[0;34m\u001b[0m\u001b[0m\n",
      "\u001b[0;31mKeyboardInterrupt\u001b[0m: "
     ]
    }
   ],
   "source": [
    "import pandas as pd\n",
    "import datetime as dt\n",
    "from datetime import datetime,date,timedelta\n",
    "import eikon as ek\n",
    "import calendar\n",
    "import numpy as np\n",
    "import warnings\n",
    "import matplotlib.pyplot as plt\n",
    "warnings.filterwarnings(\"ignore\")\n",
    "\n",
    "\n",
    "ek.set_app_key('1b68381d8f684b0183be832bab589097fd9942f2')\n",
    "\n",
    "# Universe = ['RELI.NS','TCS.NS','HDBK.NS','HLL.NS','INFY.NS',\n",
    "#             'HDFC.NS','KTKM.NS','BRTI.NS','HCLT.NS','ITC.NS',]\n",
    "\n",
    "\n",
    "daily_returns = pd.DataFrame()\n",
    "\n",
    "YEAR = 2010\n",
    "start_date,end_date = get_start_end_dates(YEAR-1,52)\n",
    "Universe = get_top_rics_by_mktcap(40,start_date)\n",
    "\n",
    "prices = ek.get_timeseries(rics=Universe,fields=['CLOSE'],\n",
    "                            start_date=start_date,\n",
    "                            end_date=end_date,\n",
    "                            interval='daily',corax='adjusted')\n",
    "returns = prices.pct_change()\n",
    "returns = returns.iloc[1:, :]\n",
    "\n",
    "portwts = Get_EigenPort_Weights(returns)\n",
    "for week in range(1,53):\n",
    "    start_date,end_date = get_start_end_dates(YEAR,week)\n",
    "    \n",
    "    print(start_date,end_date)\n",
    "\n",
    "    #To Show Plots\n",
    "#     portwts.plot(kind='bar', legend=False)\n",
    "#     plt.title(\"Second E.V. Eigenportfolio\")\n",
    "#     plt.show()\n",
    "    \n",
    "    prices = ek.get_timeseries(rics=Universe,fields=['CLOSE'],\n",
    "                            start_date=start_date,\n",
    "                            end_date=end_date,\n",
    "                            interval='daily',corax='adjusted')\n",
    "    \n",
    "    returns = prices.pct_change()\n",
    "    returns = returns.iloc[1:, :]\n",
    "    \n",
    "    #No Short position in portofolio\n",
    "#     portwts.loc[portwts['Investment Weight'] < 0] = 0 \n",
    "#     portwts = portwts/portwts.sum()\n",
    "    if(week > 1):\n",
    "        rets = get_cumulative_returns_over_time(returns,portwts) + daily_returns.values[-1][0]\n",
    "    else:\n",
    "        rets = get_cumulative_returns_over_time(returns,portwts)\n",
    "        \n",
    "    daily_returns = daily_returns.append(rets)\n",
    "#     Universe = get_top_rics_by_mktcap(10,start_date)\n",
    "    portwts = Get_EigenPort_Weights(returns)\n",
    "    \n",
    "    #No single stock weighted more than 50% \n",
    "#     portwts = portwts.clip(lower=-0.5,upper=0.5,axis=0)\n",
    "#     portwts = portwts/portwts.sum(axis=0)\n",
    "\n",
    "    \n",
    "nifty = ek.get_timeseries(rics=['.NSEI'],fields=['CLOSE'],\n",
    "                            start_date=str(daily_returns.index[0].date()),\n",
    "                            end_date=str(daily_returns.index[-1].date()),\n",
    "                            interval='daily',corax='adjusted')\n",
    "indexreturns = nifty.pct_change()\n",
    "indexreturns = indexreturns.iloc[1:, :]\n",
    "\n",
    "\n",
    "plt.plot(daily_returns,label='EigenPortfolio')\n",
    "plt.plot((((1+indexreturns).cumprod(axis=0))-1),label='Benchmark (Nifty 50)')\n",
    "plt.grid()\n",
    "plt.legend()\n",
    "\n"
   ]
  },
  {
   "cell_type": "code",
   "execution_count": 14,
   "metadata": {},
   "outputs": [],
   "source": [
    "def get_top_rics_by_mktcap(top,date):\n",
    "    return ek.get_data(\"0#.NSEI\",\"TR.CompanyMarketCap\",{'Sdate':date})[0].sort_values(by='Company Market Cap',ascending=False).Instrument[:top].tolist()\n",
    "\n",
    "def get_cumulative_returns_over_time(sample, weights):\n",
    "    return (((1+sample).cumprod(axis=0))-1).dot(weights)\n"
   ]
  },
  {
   "cell_type": "code",
   "execution_count": 63,
   "metadata": {},
   "outputs": [
    {
     "data": {
      "text/plain": [
       "array([-0.47612396+0.j        , -0.86623052+0.j        ,\n",
       "       -0.15149475+0.j        , -0.19974068+0.j        ,\n",
       "        0.15476046+0.j        ,  0.15789905+0.j        ,\n",
       "        0.00886781+0.j        , -0.05746018-0.01184312j,\n",
       "       -0.05746018+0.01184312j, -0.1084541 +0.j        ])"
      ]
     },
     "execution_count": 63,
     "metadata": {},
     "output_type": "execute_result"
    }
   ],
   "source": [
    "D, S = np.linalg.eig((returns.cov()))\n",
    "S[0]"
   ]
  },
  {
   "cell_type": "code",
   "execution_count": 43,
   "metadata": {
    "scrolled": true
   },
   "outputs": [],
   "source": [
    "def Get_EigenPort_Weights(data):\n",
    "    universe = data.columns.tolist()\n",
    "\n",
    "    covariance_matrix = data.cov()\n",
    "\n",
    "    D, S = np.linalg.eigh(np.linalg.inv(covariance_matrix))\n",
    "\n",
    "    SharpeList = []\n",
    "\n",
    "    for i in range(len(S)):\n",
    "        eigenportfolio_1 = S[:,-i] / np.sum(S[:,-i]) # Normalize to sum to 1\n",
    "        eigenportfolio = pd.DataFrame(data= eigenportfolio_1, columns = ['Investment Weight'], index = universe)\n",
    "        cumulative_returns = get_cumulative_returns_over_time(data, eigenportfolio).values\n",
    "#         SharpeList.append(np.std(cumulative_returns))     #For MinVar Port\n",
    "        SharpeList.append(cumulative_returns[-1][0]/np.std(cumulative_returns))    \n",
    "    \n",
    "    \n",
    "#     eigenportfolio_final = S[:,-np.argmin(SharpeList)] / np.sum(S[:,-np.argmin(SharpeList)]) #For MinVar Port\n",
    "    eigenportfolio_final = S[:,-np.argmax(SharpeList)] / np.sum(S[:,-np.argmax(SharpeList)]) # Normalize to sum to 1\n",
    "#     eigenportfolio_final = S[:,-1] / np.sum(S[:,-1])                                         # For 'N'th eigenvalue portfolio\n",
    "\n",
    "    eigenportfolio = pd.DataFrame(data= eigenportfolio_final, columns = ['Investment Weight'], index = universe)\n",
    "    return eigenportfolio\n",
    "\n",
    "def Get_EigenPort_Weights_MV(data):\n",
    "\n",
    "    universe = data.columns.tolist()\n",
    "\n",
    "    covariance_matrix = data.cov()\n",
    "\n",
    "    inv_cov_mat = np.linalg.pinv(covariance_matrix) # Use pseudo-inverse incase matrix is singular / ill-conditioned\n",
    "    \n",
    "    # Construct minimum variance weights\n",
    "    ones = np.ones(len(inv_cov_mat))\n",
    "    inv_dot_ones = np.dot(inv_cov_mat, ones)\n",
    "    min_var_weights = inv_dot_ones/ np.dot( inv_dot_ones , ones)\n",
    "    \n",
    "    min_var_portfolio = pd.DataFrame(data= min_var_weights, columns = ['Investment Weight'], index = universe)\n",
    "\n",
    "    return min_var_portfolio\n"
   ]
  },
  {
   "cell_type": "code",
   "execution_count": 16,
   "metadata": {},
   "outputs": [],
   "source": [
    "from datetime import date,timedelta\n",
    "\n",
    "def get_start_end_dates(year, week):\n",
    "     d = date(year,1,1)\n",
    "     if(d.weekday()<= 3):\n",
    "         d = d - timedelta(d.weekday())             \n",
    "     else:\n",
    "         d = d + timedelta(7-d.weekday())\n",
    "     dlt = timedelta(days = (week-1)*7)\n",
    "     return (d + dlt).strftime(\"%Y-%m-%d\"),  (d + dlt + timedelta(days=6)).strftime(\"%Y-%m-%d\")\n",
    "\n"
   ]
  },
  {
   "cell_type": "code",
   "execution_count": 44,
   "metadata": {
    "scrolled": true
   },
   "outputs": [
    {
     "data": {
      "text/plain": [
       "Text(0.5, 1.0, '2nd E.V. Eigenportfolio')"
      ]
     },
     "execution_count": 44,
     "metadata": {},
     "output_type": "execute_result"
    },
    {
     "data": {
      "image/png": "[encoded data removed]",
      "text/plain": [
       "<Figure size 432x288 with 2 Axes>"
      ]
     },
     "metadata": {
      "needs_background": "light"
     },
     "output_type": "display_data"
    }
   ],
   "source": [
    "import numpy as np\n",
    "\n",
    "covariance_matrix = in_sample.cov()\n",
    "\n",
    "D, S = np.linalg.eigh(covariance_matrix)\n",
    "\n",
    "eigenportfolio_1 = S[:,-1] / np.sum(S[:,-1]) # Normalize to sum to 1\n",
    "\n",
    "eigenportfolio_2 = S[:,-2] / np.sum(S[:,-2]) # Normalize to sum to 1\n",
    "\n",
    "\n",
    "# Setup Portfolios\n",
    "eigenportfolio = pd.DataFrame(data= eigenportfolio_1, columns = ['Investment Weight'], index = tickers)\n",
    "eigenportfolio2 = pd.DataFrame(data= eigenportfolio_2, columns = ['Investment Weight'], index = tickers)\n",
    "\n",
    "# Plot\n",
    "%matplotlib inline\n",
    "import matplotlib.pyplot as plt\n",
    "f = plt.figure()\n",
    "\n",
    "ax = plt.subplot(121)\n",
    "eigenportfolio.plot(kind='bar', ax=ax, legend=False)\n",
    "plt.title(\"Max E.V. Eigenportfolio\")\n",
    "ax = plt.subplot(122)\n",
    "eigenportfolio2.plot(kind='bar', ax=ax, legend=False)\n",
    "plt.title(\"2nd E.V. Eigenportfolio\")"
   ]
  },
  {
   "cell_type": "code",
   "execution_count": 32,
   "metadata": {},
   "outputs": [
    {
     "data": {
      "text/plain": [
       "<matplotlib.axes._subplots.AxesSubplot at 0x11c4c11f0>"
      ]
     },
     "execution_count": 32,
     "metadata": {},
     "output_type": "execute_result"
    },
    {
     "data": {
      "image/png": "[encoded data removed]",
      "text/plain": [
       "<Figure size 432x288 with 1 Axes>"
      ]
     },
     "metadata": {
      "needs_background": "light"
     },
     "output_type": "display_data"
    },
    {
     "data": {
      "image/png": "[encoded data removed]",
      "text/plain": [
       "<Figure size 432x288 with 1 Axes>"
      ]
     },
     "metadata": {
      "needs_background": "light"
     },
     "output_type": "display_data"
    }
   ],
   "source": [
    "portwts.plot(kind='bar', legend=False)\n",
    "\n",
    "newwts = portwts.clip(lower=-0.2,upper=0.2,axis=0)\n",
    "newwts = newwts/newwts.sum(axis=0)\n",
    "newwts.plot(kind='bar', legend=False)"
   ]
  },
  {
   "cell_type": "code",
   "execution_count": 215,
   "metadata": {
    "scrolled": false
   },
   "outputs": [
    {
     "ename": "ValueError",
     "evalue": "matrices are not aligned",
     "output_type": "error",
     "traceback": [
      "\u001b[0;31m---------------------------------------------------------------------------\u001b[0m",
      "\u001b[0;31mValueError\u001b[0m                                Traceback (most recent call last)",
      "\u001b[0;32m<ipython-input-215-306d452497c6>\u001b[0m in \u001b[0;36m<module>\u001b[0;34m\u001b[0m\n\u001b[1;32m      8\u001b[0m \u001b[0mout_sample_ind\u001b[0m \u001b[0;34m=\u001b[0m \u001b[0mnp\u001b[0m\u001b[0;34m.\u001b[0m\u001b[0marange\u001b[0m\u001b[0;34m(\u001b[0m\u001b[0;34m(\u001b[0m\u001b[0mreturns\u001b[0m\u001b[0;34m.\u001b[0m\u001b[0mshape\u001b[0m\u001b[0;34m[\u001b[0m\u001b[0;36m0\u001b[0m\u001b[0;34m]\u001b[0m\u001b[0;34m-\u001b[0m\u001b[0mtraining_period\u001b[0m\u001b[0;34m+\u001b[0m\u001b[0;36m1\u001b[0m\u001b[0;34m)\u001b[0m\u001b[0;34m,\u001b[0m \u001b[0mreturns\u001b[0m\u001b[0;34m.\u001b[0m\u001b[0mshape\u001b[0m\u001b[0;34m[\u001b[0m\u001b[0;36m0\u001b[0m\u001b[0;34m]\u001b[0m\u001b[0;34m)\u001b[0m\u001b[0;34m\u001b[0m\u001b[0;34m\u001b[0m\u001b[0m\n\u001b[1;32m      9\u001b[0m \u001b[0;34m\u001b[0m\u001b[0m\n\u001b[0;32m---> 10\u001b[0;31m \u001b[0mcumulative_returns\u001b[0m \u001b[0;34m=\u001b[0m \u001b[0mget_cumulative_returns_over_time\u001b[0m\u001b[0;34m(\u001b[0m\u001b[0mreturns\u001b[0m\u001b[0;34m,\u001b[0m \u001b[0meigenportfolio\u001b[0m\u001b[0;34m)\u001b[0m\u001b[0;34m.\u001b[0m\u001b[0mvalues\u001b[0m\u001b[0;34m\u001b[0m\u001b[0;34m\u001b[0m\u001b[0m\n\u001b[0m\u001b[1;32m     11\u001b[0m \u001b[0;34m\u001b[0m\u001b[0m\n\u001b[1;32m     12\u001b[0m \u001b[0mf\u001b[0m \u001b[0;34m=\u001b[0m \u001b[0mplt\u001b[0m\u001b[0;34m.\u001b[0m\u001b[0mfigure\u001b[0m\u001b[0;34m(\u001b[0m\u001b[0mfigsize\u001b[0m\u001b[0;34m=\u001b[0m\u001b[0;34m(\u001b[0m\u001b[0;36m10\u001b[0m\u001b[0;34m,\u001b[0m\u001b[0;36m4\u001b[0m\u001b[0;34m)\u001b[0m\u001b[0;34m)\u001b[0m\u001b[0;34m\u001b[0m\u001b[0;34m\u001b[0m\u001b[0m\n",
      "\u001b[0;32m<ipython-input-215-306d452497c6>\u001b[0m in \u001b[0;36mget_cumulative_returns_over_time\u001b[0;34m(sample, weights)\u001b[0m\n\u001b[1;32m      3\u001b[0m \u001b[0;34m\u001b[0m\u001b[0m\n\u001b[1;32m      4\u001b[0m \u001b[0;32mdef\u001b[0m \u001b[0mget_cumulative_returns_over_time\u001b[0m\u001b[0;34m(\u001b[0m\u001b[0msample\u001b[0m\u001b[0;34m,\u001b[0m \u001b[0mweights\u001b[0m\u001b[0;34m)\u001b[0m\u001b[0;34m:\u001b[0m\u001b[0;34m\u001b[0m\u001b[0;34m\u001b[0m\u001b[0m\n\u001b[0;32m----> 5\u001b[0;31m     \u001b[0;32mreturn\u001b[0m \u001b[0;34m(\u001b[0m\u001b[0;34m(\u001b[0m\u001b[0;34m(\u001b[0m\u001b[0;36m1\u001b[0m\u001b[0;34m+\u001b[0m\u001b[0msample\u001b[0m\u001b[0;34m)\u001b[0m\u001b[0;34m.\u001b[0m\u001b[0mcumprod\u001b[0m\u001b[0;34m(\u001b[0m\u001b[0maxis\u001b[0m\u001b[0;34m=\u001b[0m\u001b[0;36m0\u001b[0m\u001b[0;34m)\u001b[0m\u001b[0;34m)\u001b[0m\u001b[0;34m-\u001b[0m\u001b[0;36m1\u001b[0m\u001b[0;34m)\u001b[0m\u001b[0;34m.\u001b[0m\u001b[0mdot\u001b[0m\u001b[0;34m(\u001b[0m\u001b[0mweights\u001b[0m\u001b[0;34m)\u001b[0m\u001b[0;34m\u001b[0m\u001b[0;34m\u001b[0m\u001b[0m\n\u001b[0m\u001b[1;32m      6\u001b[0m \u001b[0;34m\u001b[0m\u001b[0m\n\u001b[1;32m      7\u001b[0m \u001b[0min_sample_ind\u001b[0m \u001b[0;34m=\u001b[0m \u001b[0mnp\u001b[0m\u001b[0;34m.\u001b[0m\u001b[0marange\u001b[0m\u001b[0;34m(\u001b[0m\u001b[0;36m0\u001b[0m\u001b[0;34m,\u001b[0m \u001b[0;34m(\u001b[0m\u001b[0mreturns\u001b[0m\u001b[0;34m.\u001b[0m\u001b[0mshape\u001b[0m\u001b[0;34m[\u001b[0m\u001b[0;36m0\u001b[0m\u001b[0;34m]\u001b[0m\u001b[0;34m-\u001b[0m\u001b[0mtraining_period\u001b[0m\u001b[0;34m+\u001b[0m\u001b[0;36m1\u001b[0m\u001b[0;34m)\u001b[0m\u001b[0;34m)\u001b[0m\u001b[0;34m\u001b[0m\u001b[0;34m\u001b[0m\u001b[0m\n",
      "\u001b[0;32m~/Documents/kite/kite/lib/python3.8/site-packages/pandas/core/frame.py\u001b[0m in \u001b[0;36mdot\u001b[0;34m(self, other)\u001b[0m\n\u001b[1;32m   1121\u001b[0m             \u001b[0mcommon\u001b[0m \u001b[0;34m=\u001b[0m \u001b[0mself\u001b[0m\u001b[0;34m.\u001b[0m\u001b[0mcolumns\u001b[0m\u001b[0;34m.\u001b[0m\u001b[0munion\u001b[0m\u001b[0;34m(\u001b[0m\u001b[0mother\u001b[0m\u001b[0;34m.\u001b[0m\u001b[0mindex\u001b[0m\u001b[0;34m)\u001b[0m\u001b[0;34m\u001b[0m\u001b[0;34m\u001b[0m\u001b[0m\n\u001b[1;32m   1122\u001b[0m             \u001b[0;32mif\u001b[0m \u001b[0mlen\u001b[0m\u001b[0;34m(\u001b[0m\u001b[0mcommon\u001b[0m\u001b[0;34m)\u001b[0m \u001b[0;34m>\u001b[0m \u001b[0mlen\u001b[0m\u001b[0;34m(\u001b[0m\u001b[0mself\u001b[0m\u001b[0;34m.\u001b[0m\u001b[0mcolumns\u001b[0m\u001b[0;34m)\u001b[0m \u001b[0;32mor\u001b[0m \u001b[0mlen\u001b[0m\u001b[0;34m(\u001b[0m\u001b[0mcommon\u001b[0m\u001b[0;34m)\u001b[0m \u001b[0;34m>\u001b[0m \u001b[0mlen\u001b[0m\u001b[0;34m(\u001b[0m\u001b[0mother\u001b[0m\u001b[0;34m.\u001b[0m\u001b[0mindex\u001b[0m\u001b[0;34m)\u001b[0m\u001b[0;34m:\u001b[0m\u001b[0;34m\u001b[0m\u001b[0;34m\u001b[0m\u001b[0m\n\u001b[0;32m-> 1123\u001b[0;31m                 \u001b[0;32mraise\u001b[0m \u001b[0mValueError\u001b[0m\u001b[0;34m(\u001b[0m\u001b[0;34m\"matrices are not aligned\"\u001b[0m\u001b[0;34m)\u001b[0m\u001b[0;34m\u001b[0m\u001b[0;34m\u001b[0m\u001b[0m\n\u001b[0m\u001b[1;32m   1124\u001b[0m \u001b[0;34m\u001b[0m\u001b[0m\n\u001b[1;32m   1125\u001b[0m             \u001b[0mleft\u001b[0m \u001b[0;34m=\u001b[0m \u001b[0mself\u001b[0m\u001b[0;34m.\u001b[0m\u001b[0mreindex\u001b[0m\u001b[0;34m(\u001b[0m\u001b[0mcolumns\u001b[0m\u001b[0;34m=\u001b[0m\u001b[0mcommon\u001b[0m\u001b[0;34m,\u001b[0m \u001b[0mcopy\u001b[0m\u001b[0;34m=\u001b[0m\u001b[0;32mFalse\u001b[0m\u001b[0;34m)\u001b[0m\u001b[0;34m\u001b[0m\u001b[0;34m\u001b[0m\u001b[0m\n",
      "\u001b[0;31mValueError\u001b[0m: matrices are not aligned"
     ]
    }
   ],
   "source": [
    "import matplotlib.pyplot as plt\n",
    "%matplotlib inline\n",
    "\n",
    "def get_cumulative_returns_over_time(sample, weights):\n",
    "    return (((1+sample).cumprod(axis=0))-1).dot(weights)\n",
    "\n",
    "in_sample_ind = np.arange(0, (returns.shape[0]-training_period+1))\n",
    "out_sample_ind = np.arange((returns.shape[0]-training_period+1), returns.shape[0])\n",
    "\n",
    "cumulative_returns = get_cumulative_returns_over_time(returns, eigenportfolio).values\n",
    "\n",
    "f = plt.figure(figsize=(10,4))\n",
    "\n",
    "ax = plt.subplot(121)\n",
    "ax.plot(cumulative_returns[in_sample_ind], 'black')\n",
    "ax.plot(out_sample_ind,cumulative_returns[out_sample_ind], 'r')\n",
    "plt.title(\"Eigenportfolio\")\n",
    "\n",
    "ax = plt.subplot(122)\n",
    "plt.plot((((1+indexreturns).cumprod(axis=0))-1))\n",
    "plt.title(\"Nifty50\")"
   ]
  },
  {
   "cell_type": "code",
   "execution_count": 190,
   "metadata": {},
   "outputs": [
    {
     "data": {
      "text/html": [
       "<div>\n",
       "<style scoped>\n",
       "    .dataframe tbody tr th:only-of-type {\n",
       "        vertical-align: middle;\n",
       "    }\n",
       "\n",
       "    .dataframe tbody tr th {\n",
       "        vertical-align: top;\n",
       "    }\n",
       "\n",
       "    .dataframe thead th {\n",
       "        text-align: right;\n",
       "    }\n",
       "</style>\n",
       "<table border=\"1\" class=\"dataframe\">\n",
       "  <thead>\n",
       "    <tr style=\"text-align: right;\">\n",
       "      <th>CLOSE</th>\n",
       "      <th>COAL.NS</th>\n",
       "      <th>HDBK.NS</th>\n",
       "      <th>HDFC.NS</th>\n",
       "      <th>ICBK.NS</th>\n",
       "      <th>INFY.NS</th>\n",
       "      <th>ITC.NS</th>\n",
       "      <th>ONGC.NS</th>\n",
       "      <th>RELI.NS</th>\n",
       "      <th>SBI.NS</th>\n",
       "      <th>TCS.NS</th>\n",
       "    </tr>\n",
       "    <tr>\n",
       "      <th>Date</th>\n",
       "      <th></th>\n",
       "      <th></th>\n",
       "      <th></th>\n",
       "      <th></th>\n",
       "      <th></th>\n",
       "      <th></th>\n",
       "      <th></th>\n",
       "      <th></th>\n",
       "      <th></th>\n",
       "      <th></th>\n",
       "    </tr>\n",
       "  </thead>\n",
       "  <tbody>\n",
       "    <tr>\n",
       "      <th>2015-01-06</th>\n",
       "      <td>-0.000789</td>\n",
       "      <td>-0.015567</td>\n",
       "      <td>-0.049309</td>\n",
       "      <td>-0.042418</td>\n",
       "      <td>-0.020893</td>\n",
       "      <td>-0.025710</td>\n",
       "      <td>-0.061528</td>\n",
       "      <td>-0.049169</td>\n",
       "      <td>-0.041087</td>\n",
       "      <td>-0.036866</td>\n",
       "    </tr>\n",
       "    <tr>\n",
       "      <th>2015-01-07</th>\n",
       "      <td>-0.013818</td>\n",
       "      <td>0.002919</td>\n",
       "      <td>-0.000319</td>\n",
       "      <td>-0.027039</td>\n",
       "      <td>0.004785</td>\n",
       "      <td>-0.016944</td>\n",
       "      <td>0.020648</td>\n",
       "      <td>0.030631</td>\n",
       "      <td>0.000834</td>\n",
       "      <td>-0.011812</td>\n",
       "    </tr>\n",
       "    <tr>\n",
       "      <th>2015-01-08</th>\n",
       "      <td>0.012677</td>\n",
       "      <td>0.021005</td>\n",
       "      <td>0.022320</td>\n",
       "      <td>0.027199</td>\n",
       "      <td>0.005042</td>\n",
       "      <td>0.022323</td>\n",
       "      <td>0.005611</td>\n",
       "      <td>-0.017483</td>\n",
       "      <td>0.015659</td>\n",
       "      <td>0.010795</td>\n",
       "    </tr>\n",
       "    <tr>\n",
       "      <th>2015-01-09</th>\n",
       "      <td>-0.011596</td>\n",
       "      <td>0.011193</td>\n",
       "      <td>-0.010827</td>\n",
       "      <td>-0.016117</td>\n",
       "      <td>0.051179</td>\n",
       "      <td>-0.008154</td>\n",
       "      <td>0.029662</td>\n",
       "      <td>0.021945</td>\n",
       "      <td>-0.005412</td>\n",
       "      <td>0.028030</td>\n",
       "    </tr>\n",
       "    <tr>\n",
       "      <th>2015-01-12</th>\n",
       "      <td>-0.045861</td>\n",
       "      <td>-0.008815</td>\n",
       "      <td>0.017252</td>\n",
       "      <td>0.013749</td>\n",
       "      <td>0.020005</td>\n",
       "      <td>-0.002647</td>\n",
       "      <td>-0.009983</td>\n",
       "      <td>-0.010447</td>\n",
       "      <td>0.012863</td>\n",
       "      <td>-0.001035</td>\n",
       "    </tr>\n",
       "    <tr>\n",
       "      <th>2015-01-13</th>\n",
       "      <td>0.009361</td>\n",
       "      <td>-0.003826</td>\n",
       "      <td>-0.005358</td>\n",
       "      <td>-0.016304</td>\n",
       "      <td>-0.012784</td>\n",
       "      <td>0.008801</td>\n",
       "      <td>-0.019879</td>\n",
       "      <td>-0.008798</td>\n",
       "      <td>-0.006513</td>\n",
       "      <td>-0.004702</td>\n",
       "    </tr>\n",
       "    <tr>\n",
       "      <th>2015-01-14</th>\n",
       "      <td>0.005537</td>\n",
       "      <td>0.000571</td>\n",
       "      <td>-0.001959</td>\n",
       "      <td>-0.011734</td>\n",
       "      <td>0.019029</td>\n",
       "      <td>-0.034898</td>\n",
       "      <td>0.012640</td>\n",
       "      <td>-0.009467</td>\n",
       "      <td>-0.001311</td>\n",
       "      <td>0.009628</td>\n",
       "    </tr>\n",
       "    <tr>\n",
       "      <th>2015-01-15</th>\n",
       "      <td>0.014455</td>\n",
       "      <td>0.030345</td>\n",
       "      <td>0.065215</td>\n",
       "      <td>0.047343</td>\n",
       "      <td>0.002631</td>\n",
       "      <td>0.022672</td>\n",
       "      <td>-0.001306</td>\n",
       "      <td>0.031063</td>\n",
       "      <td>0.051198</td>\n",
       "      <td>0.006800</td>\n",
       "    </tr>\n",
       "    <tr>\n",
       "      <th>2015-01-16</th>\n",
       "      <td>0.028769</td>\n",
       "      <td>0.008257</td>\n",
       "      <td>0.003350</td>\n",
       "      <td>0.002834</td>\n",
       "      <td>-0.007473</td>\n",
       "      <td>0.010243</td>\n",
       "      <td>0.008429</td>\n",
       "      <td>0.005214</td>\n",
       "      <td>-0.015142</td>\n",
       "      <td>-0.002737</td>\n",
       "    </tr>\n",
       "    <tr>\n",
       "      <th>2015-01-19</th>\n",
       "      <td>0.000396</td>\n",
       "      <td>0.003196</td>\n",
       "      <td>-0.014190</td>\n",
       "      <td>0.019641</td>\n",
       "      <td>-0.007459</td>\n",
       "      <td>-0.005000</td>\n",
       "      <td>0.004756</td>\n",
       "      <td>0.014121</td>\n",
       "      <td>-0.007291</td>\n",
       "      <td>-0.008353</td>\n",
       "    </tr>\n",
       "    <tr>\n",
       "      <th>2015-01-20</th>\n",
       "      <td>0.008175</td>\n",
       "      <td>0.016326</td>\n",
       "      <td>0.058425</td>\n",
       "      <td>0.019263</td>\n",
       "      <td>0.010321</td>\n",
       "      <td>0.036572</td>\n",
       "      <td>0.005164</td>\n",
       "      <td>0.025916</td>\n",
       "      <td>0.015967</td>\n",
       "      <td>-0.004202</td>\n",
       "    </tr>\n",
       "    <tr>\n",
       "      <th>2015-01-21</th>\n",
       "      <td>0.024980</td>\n",
       "      <td>-0.000979</td>\n",
       "      <td>0.031240</td>\n",
       "      <td>0.001903</td>\n",
       "      <td>0.021514</td>\n",
       "      <td>-0.051980</td>\n",
       "      <td>-0.011558</td>\n",
       "      <td>0.004986</td>\n",
       "      <td>0.025303</td>\n",
       "      <td>0.005339</td>\n",
       "    </tr>\n",
       "    <tr>\n",
       "      <th>2015-01-22</th>\n",
       "      <td>0.011612</td>\n",
       "      <td>0.001275</td>\n",
       "      <td>-0.007021</td>\n",
       "      <td>0.003664</td>\n",
       "      <td>0.012236</td>\n",
       "      <td>0.000000</td>\n",
       "      <td>0.021366</td>\n",
       "      <td>-0.025192</td>\n",
       "      <td>-0.004752</td>\n",
       "      <td>-0.000099</td>\n",
       "    </tr>\n",
       "    <tr>\n",
       "      <th>2015-01-23</th>\n",
       "      <td>-0.004289</td>\n",
       "      <td>0.021102</td>\n",
       "      <td>0.001250</td>\n",
       "      <td>0.002434</td>\n",
       "      <td>0.008468</td>\n",
       "      <td>-0.007244</td>\n",
       "      <td>-0.011873</td>\n",
       "      <td>0.002997</td>\n",
       "      <td>0.008625</td>\n",
       "      <td>-0.003959</td>\n",
       "    </tr>\n",
       "    <tr>\n",
       "      <th>2015-01-27</th>\n",
       "      <td>-0.030530</td>\n",
       "      <td>0.029967</td>\n",
       "      <td>0.023798</td>\n",
       "      <td>0.034529</td>\n",
       "      <td>-0.035462</td>\n",
       "      <td>0.032050</td>\n",
       "      <td>0.001287</td>\n",
       "      <td>0.000451</td>\n",
       "      <td>0.007940</td>\n",
       "      <td>-0.000619</td>\n",
       "    </tr>\n",
       "    <tr>\n",
       "      <th>2015-01-28</th>\n",
       "      <td>0.003005</td>\n",
       "      <td>-0.014618</td>\n",
       "      <td>0.025074</td>\n",
       "      <td>0.001434</td>\n",
       "      <td>0.003768</td>\n",
       "      <td>0.006516</td>\n",
       "      <td>0.013286</td>\n",
       "      <td>0.021753</td>\n",
       "      <td>0.013786</td>\n",
       "      <td>0.015008</td>\n",
       "    </tr>\n",
       "    <tr>\n",
       "      <th>2015-01-29</th>\n",
       "      <td>-0.023059</td>\n",
       "      <td>0.034629</td>\n",
       "      <td>-0.026022</td>\n",
       "      <td>-0.009764</td>\n",
       "      <td>0.000443</td>\n",
       "      <td>0.019284</td>\n",
       "      <td>-0.011702</td>\n",
       "      <td>0.023606</td>\n",
       "      <td>-0.022714</td>\n",
       "      <td>0.001989</td>\n",
       "    </tr>\n",
       "    <tr>\n",
       "      <th>2015-01-30</th>\n",
       "      <td>-0.037605</td>\n",
       "      <td>-0.016119</td>\n",
       "      <td>-0.025954</td>\n",
       "      <td>-0.051538</td>\n",
       "      <td>-0.001678</td>\n",
       "      <td>-0.003378</td>\n",
       "      <td>0.004565</td>\n",
       "      <td>-0.012501</td>\n",
       "      <td>-0.055199</td>\n",
       "      <td>-0.024601</td>\n",
       "    </tr>\n",
       "  </tbody>\n",
       "</table>\n",
       "</div>"
      ],
      "text/plain": [
       "CLOSE        COAL.NS   HDBK.NS   HDFC.NS   ICBK.NS   INFY.NS    ITC.NS  \\\n",
       "Date                                                                     \n",
       "2015-01-06 -0.000789 -0.015567 -0.049309 -0.042418 -0.020893 -0.025710   \n",
       "2015-01-07 -0.013818  0.002919 -0.000319 -0.027039  0.004785 -0.016944   \n",
       "2015-01-08  0.012677  0.021005  0.022320  0.027199  0.005042  0.022323   \n",
       "2015-01-09 -0.011596  0.011193 -0.010827 -0.016117  0.051179 -0.008154   \n",
       "2015-01-12 -0.045861 -0.008815  0.017252  0.013749  0.020005 -0.002647   \n",
       "2015-01-13  0.009361 -0.003826 -0.005358 -0.016304 -0.012784  0.008801   \n",
       "2015-01-14  0.005537  0.000571 -0.001959 -0.011734  0.019029 -0.034898   \n",
       "2015-01-15  0.014455  0.030345  0.065215  0.047343  0.002631  0.022672   \n",
       "2015-01-16  0.028769  0.008257  0.003350  0.002834 -0.007473  0.010243   \n",
       "2015-01-19  0.000396  0.003196 -0.014190  0.019641 -0.007459 -0.005000   \n",
       "2015-01-20  0.008175  0.016326  0.058425  0.019263  0.010321  0.036572   \n",
       "2015-01-21  0.024980 -0.000979  0.031240  0.001903  0.021514 -0.051980   \n",
       "2015-01-22  0.011612  0.001275 -0.007021  0.003664  0.012236  0.000000   \n",
       "2015-01-23 -0.004289  0.021102  0.001250  0.002434  0.008468 -0.007244   \n",
       "2015-01-27 -0.030530  0.029967  0.023798  0.034529 -0.035462  0.032050   \n",
       "2015-01-28  0.003005 -0.014618  0.025074  0.001434  0.003768  0.006516   \n",
       "2015-01-29 -0.023059  0.034629 -0.026022 -0.009764  0.000443  0.019284   \n",
       "2015-01-30 -0.037605 -0.016119 -0.025954 -0.051538 -0.001678 -0.003378   \n",
       "\n",
       "CLOSE        ONGC.NS   RELI.NS    SBI.NS    TCS.NS  \n",
       "Date                                                \n",
       "2015-01-06 -0.061528 -0.049169 -0.041087 -0.036866  \n",
       "2015-01-07  0.020648  0.030631  0.000834 -0.011812  \n",
       "2015-01-08  0.005611 -0.017483  0.015659  0.010795  \n",
       "2015-01-09  0.029662  0.021945 -0.005412  0.028030  \n",
       "2015-01-12 -0.009983 -0.010447  0.012863 -0.001035  \n",
       "2015-01-13 -0.019879 -0.008798 -0.006513 -0.004702  \n",
       "2015-01-14  0.012640 -0.009467 -0.001311  0.009628  \n",
       "2015-01-15 -0.001306  0.031063  0.051198  0.006800  \n",
       "2015-01-16  0.008429  0.005214 -0.015142 -0.002737  \n",
       "2015-01-19  0.004756  0.014121 -0.007291 -0.008353  \n",
       "2015-01-20  0.005164  0.025916  0.015967 -0.004202  \n",
       "2015-01-21 -0.011558  0.004986  0.025303  0.005339  \n",
       "2015-01-22  0.021366 -0.025192 -0.004752 -0.000099  \n",
       "2015-01-23 -0.011873  0.002997  0.008625 -0.003959  \n",
       "2015-01-27  0.001287  0.000451  0.007940 -0.000619  \n",
       "2015-01-28  0.013286  0.021753  0.013786  0.015008  \n",
       "2015-01-29 -0.011702  0.023606 -0.022714  0.001989  \n",
       "2015-01-30  0.004565 -0.012501 -0.055199 -0.024601  "
      ]
     },
     "execution_count": 190,
     "metadata": {},
     "output_type": "execute_result"
    }
   ],
   "source": [
    "# eigenportfolio.sort_index()\n",
    "returns.sort_index(axis=1)"
   ]
  },
  {
   "cell_type": "code",
   "execution_count": 61,
   "metadata": {
    "scrolled": false
   },
   "outputs": [
    {
     "name": "stdout",
     "output_type": "stream",
     "text": [
      "[1.6787639102874272, 2.243213455244665, 2.3204141674006085, -2.308655185355843, 2.4620741653552476, 2.468403493502742, 1.7397023528875737, 0.2933620663885827, -0.5627062724594541, 2.8389051091077055]\n",
      "9\n"
     ]
    }
   ],
   "source": [
    "covariance_matrix = in_sample.cov()\n",
    "\n",
    "D, S = np.linalg.eigh(covariance_matrix)\n",
    "\n",
    "in_sample_ind = np.arange(0, (returns.shape[0]-training_period+1))\n",
    "out_sample_ind = np.arange((returns.shape[0]-training_period+1), returns.shape[0])\n",
    "\n",
    "SharpeList = []\n",
    "    \n",
    "for i in range(len(S)):\n",
    "    eigenportfolio_1 = S[:,-i] / np.sum(S[:,-i]) # Normalize to sum to 1\n",
    "    eigenportfolio = pd.DataFrame(data= eigenportfolio_1, columns = ['Investment Weight'], index = tickers)\n",
    "\n",
    "    cumulative_returns = get_cumulative_returns_over_time(returns, eigenportfolio).values\n",
    "    SharpeList.append(cumulative_returns[-1][0]/np.std(cumulative_returns))\n",
    "    \n",
    "print(np.argmax(SharpeList))"
   ]
  },
  {
   "cell_type": "code",
   "execution_count": 50,
   "metadata": {},
   "outputs": [
    {
     "data": {
      "text/plain": [
       "10"
      ]
     },
     "execution_count": 50,
     "metadata": {},
     "output_type": "execute_result"
    }
   ],
   "source": [
    "len(S)"
   ]
  },
  {
   "cell_type": "code",
   "execution_count": 46,
   "metadata": {},
   "outputs": [
    {
     "data": {
      "text/html": [
       "<div>\n",
       "<style scoped>\n",
       "    .dataframe tbody tr th:only-of-type {\n",
       "        vertical-align: middle;\n",
       "    }\n",
       "\n",
       "    .dataframe tbody tr th {\n",
       "        vertical-align: top;\n",
       "    }\n",
       "\n",
       "    .dataframe thead th {\n",
       "        text-align: right;\n",
       "    }\n",
       "</style>\n",
       "<table border=\"1\" class=\"dataframe\">\n",
       "  <thead>\n",
       "    <tr style=\"text-align: right;\">\n",
       "      <th></th>\n",
       "      <th>Investment Weight</th>\n",
       "    </tr>\n",
       "    <tr>\n",
       "      <th>CLOSE</th>\n",
       "      <th></th>\n",
       "    </tr>\n",
       "  </thead>\n",
       "  <tbody>\n",
       "    <tr>\n",
       "      <th>RELI.NS</th>\n",
       "      <td>0.080581</td>\n",
       "    </tr>\n",
       "    <tr>\n",
       "      <th>TCS.NS</th>\n",
       "      <td>0.035185</td>\n",
       "    </tr>\n",
       "    <tr>\n",
       "      <th>HDBK.NS</th>\n",
       "      <td>0.063321</td>\n",
       "    </tr>\n",
       "    <tr>\n",
       "      <th>HLL.NS</th>\n",
       "      <td>0.378907</td>\n",
       "    </tr>\n",
       "    <tr>\n",
       "      <th>INFY.NS</th>\n",
       "      <td>0.105514</td>\n",
       "    </tr>\n",
       "    <tr>\n",
       "      <th>HDFC.NS</th>\n",
       "      <td>-0.036194</td>\n",
       "    </tr>\n",
       "    <tr>\n",
       "      <th>KTKM.NS</th>\n",
       "      <td>-0.030257</td>\n",
       "    </tr>\n",
       "    <tr>\n",
       "      <th>BRTI.NS</th>\n",
       "      <td>0.058191</td>\n",
       "    </tr>\n",
       "    <tr>\n",
       "      <th>HCLT.NS</th>\n",
       "      <td>0.206516</td>\n",
       "    </tr>\n",
       "    <tr>\n",
       "      <th>ITC.NS</th>\n",
       "      <td>0.138236</td>\n",
       "    </tr>\n",
       "  </tbody>\n",
       "</table>\n",
       "</div>"
      ],
      "text/plain": [
       "         Investment Weight\n",
       "CLOSE                     \n",
       "RELI.NS           0.080581\n",
       "TCS.NS            0.035185\n",
       "HDBK.NS           0.063321\n",
       "HLL.NS            0.378907\n",
       "INFY.NS           0.105514\n",
       "HDFC.NS          -0.036194\n",
       "KTKM.NS          -0.030257\n",
       "BRTI.NS           0.058191\n",
       "HCLT.NS           0.206516\n",
       "ITC.NS            0.138236"
      ]
     },
     "execution_count": 46,
     "metadata": {},
     "output_type": "execute_result"
    }
   ],
   "source": [
    "    import numpy as np\n",
    "    \n",
    "    covariance_matrix = in_sample.cov().values\n",
    "    inv_cov_mat = np.linalg.pinv(covariance_matrix) # Use pseudo-inverse incase matrix is singular / ill-conditioned\n",
    "    \n",
    "    # Construct minimum variance weights\n",
    "    ones = np.ones(len(inv_cov_mat))\n",
    "    inv_dot_ones = np.dot(inv_cov_mat, ones)\n",
    "    min_var_weights = inv_dot_ones/ np.dot( inv_dot_ones , ones)\n",
    "    \n",
    "    min_var_portfolio = pd.DataFrame(data= min_var_weights, columns = ['Investment Weight'], index = tickers)\n",
    "    min_var_portfolio"
   ]
  },
  {
   "cell_type": "code",
   "execution_count": 47,
   "metadata": {
    "collapsed": true
   },
   "outputs": [
    {
     "name": "stdout",
     "output_type": "stream",
     "text": [
      "         Investment Weight\n",
      "CLOSE                     \n",
      "RELI.NS           0.080581\n",
      "TCS.NS            0.035185\n",
      "HDBK.NS           0.063321\n",
      "HLL.NS            0.378907\n",
      "INFY.NS           0.105514\n",
      "HDFC.NS          -0.036194\n",
      "KTKM.NS          -0.030257\n",
      "BRTI.NS           0.058191\n",
      "HCLT.NS           0.206516\n",
      "ITC.NS            0.138236\n"
     ]
    },
    {
     "data": {
      "image/png": "[encoded data removed]",
      "text/plain": [
       "<Figure size 432x288 with 2 Axes>"
      ]
     },
     "metadata": {
      "needs_background": "light"
     },
     "output_type": "display_data"
    }
   ],
   "source": [
    "# Largest eigenvalue eigenportfolio\n",
    "D, S = np.linalg.eigh(covariance_matrix)\n",
    "eigenportfolio_1 = S[:,-1] / np.sum(S[:,-1]) # Normalize to sum to 1\n",
    "eigenportfolio_largest = pd.DataFrame(data= eigenportfolio_1, columns = ['Investment Weight'], index = tickers)\n",
    "\n",
    "# Plot\n",
    "%matplotlib inline\n",
    "import matplotlib.pyplot as plt\n",
    "f = plt.figure()\n",
    "ax = plt.subplot(121)\n",
    "min_var_portfolio.plot(kind='bar', ax=ax, legend=False)\n",
    "plt.title(\"Min Var Portfolio\")\n",
    "ax = plt.subplot(122)\n",
    "eigenportfolio_largest.plot(kind='bar', ax=ax, legend=False)\n",
    "plt.title(\"Max E.V. Eigenportfolio\")\n",
    "print(min_var_portfolio)"
   ]
  },
  {
   "cell_type": "code",
   "execution_count": 48,
   "metadata": {
    "scrolled": true
   },
   "outputs": [
    {
     "data": {
      "text/plain": [
       "Text(0.5, 1.0, 'Eigenportfolio')"
      ]
     },
     "execution_count": 48,
     "metadata": {},
     "output_type": "execute_result"
    },
    {
     "data": {
      "image/png": "[encoded data removed]",
      "text/plain": [
       "<Figure size 720x288 with 2 Axes>"
      ]
     },
     "metadata": {
      "needs_background": "light"
     },
     "output_type": "display_data"
    }
   ],
   "source": [
    "def get_cumulative_returns_over_time(sample, weights):\n",
    "    return (((1+sample).cumprod(axis=0))-1).dot(weights)\n",
    "\n",
    "in_sample_ind = np.arange(0, (returns.shape[0]-training_period+1))\n",
    "out_sample_ind = np.arange((returns.shape[0]-training_period+1), returns.shape[0])\n",
    "\n",
    "cumulative_returns = get_cumulative_returns_over_time(returns, min_var_portfolio).values\n",
    "cumulative_returns_largest = get_cumulative_returns_over_time(returns, eigenportfolio_largest).values\n",
    "\n",
    "\n",
    "f = plt.figure(figsize=(10,4))\n",
    "\n",
    "ax = plt.subplot(121)\n",
    "ax.plot(cumulative_returns[in_sample_ind], 'black')\n",
    "ax.plot(out_sample_ind,cumulative_returns[out_sample_ind], 'r')\n",
    "plt.title(\"Minimum Variance Portfolio\")\n",
    "\n",
    "ax = plt.subplot(122)\n",
    "ax.plot(cumulative_returns_largest[in_sample_ind], 'black')\n",
    "ax.plot(out_sample_ind,cumulative_returns_largest[out_sample_ind], 'r')\n",
    "plt.title(\"Eigenportfolio\")\n",
    "\n"
   ]
  }
 ],
 "metadata": {
  "kernelspec": {
   "display_name": "Python 3",
   "language": "python",
   "name": "python3"
  },
  "language_info": {
   "codemirror_mode": {
    "name": "ipython",
    "version": 3
   },
   "file_extension": ".py",
   "mimetype": "text/x-python",
   "name": "python",
   "nbconvert_exporter": "python",
   "pygments_lexer": "ipython3",
   "version": "3.8.0"
  }
 },
 "nbformat": 4,
 "nbformat_minor": 4
}
